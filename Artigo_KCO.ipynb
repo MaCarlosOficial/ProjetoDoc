{
 "cells": [
  {
   "cell_type": "code",
   "execution_count": 2,
   "id": "0e0bcc80",
   "metadata": {},
   "outputs": [],
   "source": [
    "import numpy as np\n",
    "import pandas as pd"
   ]
  },
  {
   "cell_type": "code",
   "execution_count": 12,
   "id": "eeff2ce3",
   "metadata": {},
   "outputs": [
    {
     "name": "stdout",
     "output_type": "stream",
     "text": [
      "   row  col  status  learningCapability  transferCapability  \\\n",
      "0    0    0       0            1.276506            1.498387   \n",
      "1    0    1       0            1.455467            0.944534   \n",
      "2    0    2       0            0.659490            1.435620   \n",
      "3    0    3       0            0.769684            1.243863   \n",
      "4    0    4       0            1.026490            0.740193   \n",
      "\n",
      "   baseForgettingRate  baseQuittingRate  timesContactorD  \n",
      "0            0.101057          0.169590              0.0  \n",
      "1            0.269587          0.294270              0.0  \n",
      "2            0.103217          0.220986              0.0  \n",
      "3            0.129957          0.269436              0.0  \n",
      "4            0.125507          0.294131              0.0  \n"
     ]
    }
   ],
   "source": [
    "# Parametros para função de mobilidade\n",
    "MD = 20 # Distância máxima do salto - variações 0=nenhuma 5,10 e 20=Todo o grid \n",
    "IM = 20 # Proporção de individuos móveis - variações: 0,20%,50% e 100% \n",
    "\n",
    "rows, cols = 20, 20\n",
    "n_cells = rows * cols  \n",
    "\n",
    "# Estados possíveis 0=S, 1=E, 2=I, 3=R, 4=Q \n",
    "# Cria o dataframe com a população e seus Parametros individuais\n",
    "data = {\n",
    "    'status': np.concatenate([np.zeros(n_cells*95//100), np.ones(n_cells*5//100) * 2]).astype(int),   # 95% da populacao é S e 5% é I\n",
    "    'learningCapability': np.random.uniform(0.5, 1.5, n_cells),  # aleatorio entre 0.5 e 1.5\n",
    "    'transferCapability': np.random.uniform(0.5, 1.5, n_cells),  # aleatorio entre 0.5 e 1.5\n",
    "    'baseForgettingRate': np.random.uniform(0.1, 0.3, n_cells),  # aleatorio entre 0.1 e 0.3\n",
    "    'baseQuittingRate': np.random.uniform(0.1, 0.3, n_cells),    # aleatorio entre 0.1 e 0.3\n",
    "    'timesContactorD': np.zeros(n_cells)\n",
    "}\n",
    "# Create row and column indices to represent the 20x20 grid\n",
    "row_indices, col_indices = np.divmod(np.arange(n_cells), cols)\n",
    "row_indices = row_indices.astype(int)\n",
    "col_indices = col_indices.astype(int)\n",
    "\n",
    "# Create DataFrame\n",
    "cellularGrid = pd.DataFrame(data)\n",
    "cellularGrid['row'] = row_indices\n",
    "cellularGrid['col'] = col_indices\n",
    "\n",
    "# columns to have row and col first\n",
    "cellularGrid = cellularGrid[['row', 'col', 'status', 'learningCapability', 'transferCapability', \n",
    "                             'baseForgettingRate', 'baseQuittingRate', 'timesContactorD']]\n",
    "\n",
    "# Display the first few rows\n",
    "print(cellularGrid.head())"
   ]
  },
  {
   "cell_type": "code",
   "execution_count": 14,
   "id": "43166ad5",
   "metadata": {},
   "outputs": [
    {
     "name": "stdout",
     "output_type": "stream",
     "text": [
      "\n",
      "DataFrame shape: (400, 8)\n",
      "\n",
      "Status distribution:\n",
      "status\n",
      "0    380\n",
      "2     20\n",
      "Name: count, dtype: int64\n"
     ]
    }
   ],
   "source": [
    "# Verify the shape and status distribution\n",
    "print(\"\\nDataFrame shape:\", cellularGrid.shape)\n",
    "print(\"\\nStatus distribution:\")\n",
    "print(cellularGrid['status'].value_counts())"
   ]
  },
  {
   "cell_type": "code",
   "execution_count": 15,
   "id": "03ea0adc",
   "metadata": {},
   "outputs": [],
   "source": [
    "def mobility(df, MD, IM, n_cells):\n",
    "    # Copy DataFrame to avoid modifying the original\n",
    "    new_df = df.copy()\n",
    "    \n",
    "    # Calculate MDGrid based on MD\n",
    "    if MD == 0:\n",
    "        MDGrid = 0\n",
    "    elif MD == 5:\n",
    "        MDGrid = (n_cells * 32) // 100  # 32% of gridSize\n",
    "    elif MD == 10:\n",
    "        MDGrid = (n_cells * 64) // 100  # 64% of gridSize\n",
    "    else:\n",
    "        MDGrid = n_cells\n",
    "    \n",
    "    # Calculate IMGrid: number of cells to swap\n",
    "    IMGrid = (n_cells * IM) // 100\n",
    "    \n",
    "    # Perform swaps\n",
    "    for _ in range(IMGrid):\n",
    "        if MDGrid == 0:\n",
    "            break  # No swaps if MDGrid is 0\n",
    "        # Randomly select first cell (i, j)\n",
    "        i = np.random.randint(0, n_cells)\n",
    "        j = np.random.randint(0, n_cells)\n",
    "        \n",
    "        # Randomly select second cell (mdI, mdJ) within MDGrid\n",
    "        mdI = np.random.randint(0, MDGrid)\n",
    "        mdJ = np.random.randint(0, MDGrid)\n",
    "        while mdI == i and mdJ == j:  # Ensure different cells\n",
    "            mdI = np.random.randint(0, MDGrid)\n",
    "            mdJ = np.random.randint(0, MDGrid)\n",
    "        \n",
    "        # Find indices in DataFrame\n",
    "        idx1 = new_df[(new_df['row'] == i) & (new_df['col'] == j)].index\n",
    "        idx2 = new_df[(new_df['row'] == mdI) & (new_df['col'] == mdJ)].index\n",
    "        \n",
    "        if idx1.empty or idx2.empty:\n",
    "            continue  # Skip if indices not found\n",
    "        \n",
    "        idx1, idx2 = idx1[0], idx2[0]\n",
    "        \n",
    "        # Swap all attributes except row and col\n",
    "        columns_to_swap = ['status', 'learningCapability', 'transferCapability', \n",
    "                          'baseForgettingRate', 'baseQuittingRate', 'timesContactorD']\n",
    "        temp = new_df.loc[idx1, columns_to_swap].copy()\n",
    "        new_df.loc[idx1, columns_to_swap] = new_df.loc[idx2, columns_to_swap]\n",
    "        new_df.loc[idx2, columns_to_swap] = temp\n",
    "    \n",
    "    return new_df    "
   ]
  },
  {
   "cell_type": "code",
   "execution_count": null,
   "id": "c046ff33",
   "metadata": {},
   "outputs": [],
   "source": [
    "def neighbors(df, point, radius=2, neighbors_type='Moore'):\n",
    "    row, col = point\n",
    "    if not (0 <= row < n_cells and 0 <= col < n_cells):\n",
    "        return []\n",
    "    \n",
    "    if neighbors_type not in ['Moore', 'VonNeumann']:\n",
    "        raise ValueError(\"Vizinhança permitida Moore ou VonNeumann\")\n",
    "    \n",
    "    # Calculate distances for all cells\n",
    "    if neighbors_type == 'Moore':\n",
    "        # Chebyshev distance: max(|row - row_i|, |col - col_i|)\n",
    "        distances = np.maximum(np.abs(df['row'] - row), np.abs(df['col'] - col))\n",
    "    else:\n",
    "        # Manhattan distance: |row - row_i| + |col - col_i|\n",
    "        distances = np.abs(df['row'] - row) + np.abs(df['col'] - col)\n",
    "    \n",
    "    # Filter cells within radius (including the center point)\n",
    "    neighbor_indices = df[distances <= radius].index.tolist()\n",
    "    \n",
    "    return neighbor_indices"
   ]
  }
 ],
 "metadata": {
  "kernelspec": {
   "display_name": "base",
   "language": "python",
   "name": "python3"
  },
  "language_info": {
   "codemirror_mode": {
    "name": "ipython",
    "version": 3
   },
   "file_extension": ".py",
   "mimetype": "text/x-python",
   "name": "python",
   "nbconvert_exporter": "python",
   "pygments_lexer": "ipython3",
   "version": "3.12.4"
  }
 },
 "nbformat": 4,
 "nbformat_minor": 5
}
